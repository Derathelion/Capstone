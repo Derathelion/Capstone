{
 "cells": [
  {
   "cell_type": "code",
   "execution_count": 1,
   "id": "7808587b-9b54-46b3-a525-d2aa19075198",
   "metadata": {},
   "outputs": [],
   "source": [
    "import pandas as pd"
   ]
  },
  {
   "cell_type": "code",
   "execution_count": 2,
   "id": "b36b967c-0032-453e-9be1-76fc754dd916",
   "metadata": {},
   "outputs": [
    {
     "data": {
      "text/plain": [
       "(200, 4)"
      ]
     },
     "execution_count": 2,
     "metadata": {},
     "output_type": "execute_result"
    }
   ],
   "source": [
    "adverts = pd.read_csv('./data/Advertising.csv')\n",
    "adverts.shape"
   ]
  },
  {
   "cell_type": "code",
   "execution_count": 3,
   "id": "46f2d212-9f4d-47f8-9759-bfaf498d1833",
   "metadata": {},
   "outputs": [
    {
     "data": {
      "text/html": [
       "<div>\n",
       "<style scoped>\n",
       "    .dataframe tbody tr th:only-of-type {\n",
       "        vertical-align: middle;\n",
       "    }\n",
       "\n",
       "    .dataframe tbody tr th {\n",
       "        vertical-align: top;\n",
       "    }\n",
       "\n",
       "    .dataframe thead th {\n",
       "        text-align: right;\n",
       "    }\n",
       "</style>\n",
       "<table border=\"1\" class=\"dataframe\">\n",
       "  <thead>\n",
       "    <tr style=\"text-align: right;\">\n",
       "      <th></th>\n",
       "      <th>TV</th>\n",
       "      <th>Radio</th>\n",
       "      <th>Newspaper</th>\n",
       "      <th>Sales</th>\n",
       "    </tr>\n",
       "  </thead>\n",
       "  <tbody>\n",
       "    <tr>\n",
       "      <th>0</th>\n",
       "      <td>230.1</td>\n",
       "      <td>37.8</td>\n",
       "      <td>69.2</td>\n",
       "      <td>22.1</td>\n",
       "    </tr>\n",
       "    <tr>\n",
       "      <th>1</th>\n",
       "      <td>44.5</td>\n",
       "      <td>39.3</td>\n",
       "      <td>45.1</td>\n",
       "      <td>10.4</td>\n",
       "    </tr>\n",
       "    <tr>\n",
       "      <th>2</th>\n",
       "      <td>17.2</td>\n",
       "      <td>45.9</td>\n",
       "      <td>69.3</td>\n",
       "      <td>12.0</td>\n",
       "    </tr>\n",
       "    <tr>\n",
       "      <th>3</th>\n",
       "      <td>151.5</td>\n",
       "      <td>41.3</td>\n",
       "      <td>58.5</td>\n",
       "      <td>16.5</td>\n",
       "    </tr>\n",
       "    <tr>\n",
       "      <th>4</th>\n",
       "      <td>180.8</td>\n",
       "      <td>10.8</td>\n",
       "      <td>58.4</td>\n",
       "      <td>17.9</td>\n",
       "    </tr>\n",
       "    <tr>\n",
       "      <th>...</th>\n",
       "      <td>...</td>\n",
       "      <td>...</td>\n",
       "      <td>...</td>\n",
       "      <td>...</td>\n",
       "    </tr>\n",
       "    <tr>\n",
       "      <th>195</th>\n",
       "      <td>38.2</td>\n",
       "      <td>3.7</td>\n",
       "      <td>13.8</td>\n",
       "      <td>7.6</td>\n",
       "    </tr>\n",
       "    <tr>\n",
       "      <th>196</th>\n",
       "      <td>94.2</td>\n",
       "      <td>4.9</td>\n",
       "      <td>8.1</td>\n",
       "      <td>14.0</td>\n",
       "    </tr>\n",
       "    <tr>\n",
       "      <th>197</th>\n",
       "      <td>177.0</td>\n",
       "      <td>9.3</td>\n",
       "      <td>6.4</td>\n",
       "      <td>14.8</td>\n",
       "    </tr>\n",
       "    <tr>\n",
       "      <th>198</th>\n",
       "      <td>283.6</td>\n",
       "      <td>42.0</td>\n",
       "      <td>66.2</td>\n",
       "      <td>25.5</td>\n",
       "    </tr>\n",
       "    <tr>\n",
       "      <th>199</th>\n",
       "      <td>232.1</td>\n",
       "      <td>8.6</td>\n",
       "      <td>8.7</td>\n",
       "      <td>18.4</td>\n",
       "    </tr>\n",
       "  </tbody>\n",
       "</table>\n",
       "<p>200 rows × 4 columns</p>\n",
       "</div>"
      ],
      "text/plain": [
       "        TV  Radio  Newspaper  Sales\n",
       "0    230.1   37.8       69.2   22.1\n",
       "1     44.5   39.3       45.1   10.4\n",
       "2     17.2   45.9       69.3   12.0\n",
       "3    151.5   41.3       58.5   16.5\n",
       "4    180.8   10.8       58.4   17.9\n",
       "..     ...    ...        ...    ...\n",
       "195   38.2    3.7       13.8    7.6\n",
       "196   94.2    4.9        8.1   14.0\n",
       "197  177.0    9.3        6.4   14.8\n",
       "198  283.6   42.0       66.2   25.5\n",
       "199  232.1    8.6        8.7   18.4\n",
       "\n",
       "[200 rows x 4 columns]"
      ]
     },
     "execution_count": 3,
     "metadata": {},
     "output_type": "execute_result"
    }
   ],
   "source": [
    "adverts"
   ]
  },
  {
   "cell_type": "code",
   "execution_count": 4,
   "id": "e7779c65-4cf7-4095-9bad-7c6e2151dda7",
   "metadata": {},
   "outputs": [],
   "source": [
    "adverts_unseen = adverts.sample(frac=.20, random_state=42)\n",
    "df = adverts.drop(adverts_unseen.index)"
   ]
  },
  {
   "cell_type": "code",
   "execution_count": 5,
   "id": "f7fa63e5-cbd7-4244-8f01-05f14d455d7e",
   "metadata": {},
   "outputs": [
    {
     "data": {
      "text/plain": [
       "((200, 4), (40, 4), (160, 4))"
      ]
     },
     "execution_count": 5,
     "metadata": {},
     "output_type": "execute_result"
    }
   ],
   "source": [
    "adverts.shape, adverts_unseen.shape, df.shape"
   ]
  },
  {
   "cell_type": "code",
   "execution_count": 6,
   "id": "bf32c8a7-73b6-4cef-9aba-e055e9852d97",
   "metadata": {},
   "outputs": [],
   "source": [
    "adverts_unseen.to_csv('./data/adverts_unseen.csv', index=False)\n",
    "df.to_csv('./data/advert_tt.csv', index=False)"
   ]
  },
  {
   "cell_type": "code",
   "execution_count": null,
   "id": "e6936d38-ed10-4f68-b932-395a016e8569",
   "metadata": {},
   "outputs": [],
   "source": []
  },
  {
   "cell_type": "markdown",
   "id": "8e5bdfd8-fa0d-4080-b547-c1cae1f37aa6",
   "metadata": {},
   "source": [
    "## Alternatively"
   ]
  },
  {
   "cell_type": "markdown",
   "id": "3f16c492-3d71-4aab-bdd4-3684b16be41c",
   "metadata": {},
   "source": [
    "#### we can do this using a function"
   ]
  },
  {
   "cell_type": "code",
   "execution_count": 7,
   "id": "76e5c02b-6f24-4f03-9d29-95fd76ca78f4",
   "metadata": {},
   "outputs": [],
   "source": [
    "import pandas as pd\n",
    "import udf"
   ]
  },
  {
   "cell_type": "code",
   "execution_count": 8,
   "id": "3902567f-8e01-4881-9c3f-4cf151019e78",
   "metadata": {},
   "outputs": [
    {
     "data": {
      "text/plain": [
       "(200, 4)"
      ]
     },
     "execution_count": 8,
     "metadata": {},
     "output_type": "execute_result"
    }
   ],
   "source": [
    "data = pd.read_csv('./data/Advertising.csv')\n",
    "data.shape"
   ]
  },
  {
   "cell_type": "code",
   "execution_count": 9,
   "id": "5a919d4e-b9e0-44c9-aa08-656302ce851b",
   "metadata": {},
   "outputs": [],
   "source": [
    "def gen_unseen_pct(data, frac = 0.20, random_state=42):\n",
    "    '''This function takes 3 arguments:\n",
    "    data is the Pandas DataFrame that is to be split\n",
    "    frac is the percentage to be randomly sampled and used as a \"set-aside\" dataset (default is 20%)\n",
    "    random_state is the random_state you would like to use for reproducibility while testing (default is a random seed)\n",
    "    \n",
    "    Returns two DataFrames:\n",
    "    1st df is larger remainder of the frac (fractional set)\n",
    "    2nd df is the fractional set (i.e. 20% by default)'''\n",
    "    unseen_data = data.sample(frac=frac, random_state=42)\n",
    "    df = data.drop(unseen_data.index)\n",
    "    return df, unseen_data"
   ]
  },
  {
   "cell_type": "code",
   "execution_count": 10,
   "id": "cfeea110-4230-4dfe-a539-ed6a45d6b20b",
   "metadata": {},
   "outputs": [
    {
     "data": {
      "text/plain": [
       "((40, 4), (160, 4))"
      ]
     },
     "execution_count": 10,
     "metadata": {},
     "output_type": "execute_result"
    }
   ],
   "source": [
    "data, unseen_data = udf.gen_unseen_pct(data=data, frac=0.20, random_state=42)\n",
    "unseen_data.shape, df.shape"
   ]
  },
  {
   "cell_type": "code",
   "execution_count": 11,
   "id": "91b3f215-387b-460a-ba20-557f6b81275d",
   "metadata": {},
   "outputs": [],
   "source": [
    "unseen_data.to_csv('./data/unseen_adverts.csv', index=False)\n",
    "df.to_csv('./data/advert_tt2.csv', index=False)"
   ]
  },
  {
   "cell_type": "code",
   "execution_count": null,
   "id": "a344b3fb-cf89-444e-b33e-b2a36b42cbcc",
   "metadata": {},
   "outputs": [],
   "source": []
  },
  {
   "cell_type": "code",
   "execution_count": null,
   "id": "38137b94-7299-4b7f-b350-12e975ad0198",
   "metadata": {},
   "outputs": [],
   "source": []
  }
 ],
 "metadata": {
  "kernelspec": {
   "display_name": "Python 3 (ipykernel)",
   "language": "python",
   "name": "python3"
  },
  "language_info": {
   "codemirror_mode": {
    "name": "ipython",
    "version": 3
   },
   "file_extension": ".py",
   "mimetype": "text/x-python",
   "name": "python",
   "nbconvert_exporter": "python",
   "pygments_lexer": "ipython3",
   "version": "3.11.8"
  }
 },
 "nbformat": 4,
 "nbformat_minor": 5
}
